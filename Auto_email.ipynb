{
 "cells": [
  {
   "cell_type": "code",
   "execution_count": null,
   "metadata": {},
   "outputs": [],
   "source": [
    "#Importing libraries\n",
    "import email, smtplib, ssl\n",
    "import pandas as pd\n",
    "from email import encoders\n",
    "from email.mime.base import MIMEBase\n",
    "from email.mime.multipart import MIMEMultipart\n",
    "from email.mime.text import MIMEText"
   ]
  },
  {
   "cell_type": "code",
   "execution_count": null,
   "metadata": {},
   "outputs": [],
   "source": [
    "emails = list(pd.read_csv(\"emails.csv\", index_col = False).drop(['Unnamed: 0'], axis=1)['emails'])"
   ]
  },
  {
   "cell_type": "code",
   "execution_count": null,
   "metadata": {},
   "outputs": [],
   "source": [
    "len(emails)"
   ]
  },
  {
   "cell_type": "code",
   "execution_count": null,
   "metadata": {},
   "outputs": [],
   "source": [
    "sender_email = \"xyz@gmail.com\" #your email id\n",
    "password = input(\"Type your password and press enter:\") #password taken as input"
   ]
  },
  {
   "cell_type": "code",
   "execution_count": null,
   "metadata": {},
   "outputs": [],
   "source": [
    "subject = \"\"\n",
    "body = \"\"\"Hi,\n",
    "\n",
    "Blah Blah Blah\n",
    "\n",
    "Thanks and Regards, \n",
    "Sankalp Jain\n",
    "Undergraduate at IIT Kharagpur\"\"\""
   ]
  },
  {
   "cell_type": "code",
   "execution_count": null,
   "metadata": {},
   "outputs": [],
   "source": [
    "#file to be attached if any. Should be present in the same directory as script\n",
    "#If no attachment, jump to last cell\n",
    "filename = \"xyz.pdf\"  "
   ]
  },
  {
   "cell_type": "code",
   "execution_count": null,
   "metadata": {},
   "outputs": [],
   "source": [
    "# Open PDF file in binary mode\n",
    "with open(filename, \"rb\") as attachment:\n",
    "    # Add file as application/octet-stream\n",
    "    # Email client can usually download this automatically as attachment\n",
    "    part = MIMEBase(\"application\", \"octet-stream\")\n",
    "    part.set_payload(attachment.read())"
   ]
  },
  {
   "cell_type": "code",
   "execution_count": null,
   "metadata": {},
   "outputs": [],
   "source": [
    "# Encode file in ASCII characters to send by email    \n",
    "encoders.encode_base64(part)"
   ]
  },
  {
   "cell_type": "code",
   "execution_count": null,
   "metadata": {},
   "outputs": [],
   "source": [
    "# Add header as key/value pair to attachment part\n",
    "part.add_header(\n",
    "    \"Content-Disposition\",\n",
    "    f\"attachment; filename= {filename}\",\n",
    ")"
   ]
  },
  {
   "cell_type": "code",
   "execution_count": null,
   "metadata": {},
   "outputs": [],
   "source": [
    "#Sending emails\n",
    "#for this, you need to enable permission for less secure apps from : \"https://www.google.com/settings/security/lesssecureapps\"\n",
    "for i in range(len(emails)):\n",
    "    if(i%25==0):\n",
    "        print(\"sending \"+str(i)+\"th mail...\")\n",
    "    body_real = body\n",
    "    receiver_email = emails[i]\n",
    "    message = MIMEMultipart()\n",
    "    message[\"From\"] = sender_email\n",
    "    message[\"To\"] = receiver_email\n",
    "    message[\"Subject\"] = subject\n",
    "    message.attach(MIMEText(body_real, \"plain\"))\n",
    "    \n",
    "    #comment this if no attachments\n",
    "    message.attach(part)\n",
    "    \n",
    "    text = message.as_string()\n",
    "    context = ssl.create_default_context()\n",
    "    #print(\"here\")\n",
    "    with smtplib.SMTP_SSL(\"smtp.gmail.com\", 465, context=context) as server:\n",
    "        server.login(sender_email, password)\n",
    "        server.sendmail(sender_email, receiver_email, text)\n",
    "    print(\"sent\")"
   ]
  },
  {
   "cell_type": "code",
   "execution_count": null,
   "metadata": {},
   "outputs": [],
   "source": []
  }
 ],
 "metadata": {
  "kernelspec": {
   "display_name": "Python 3",
   "language": "python",
   "name": "python3"
  },
  "language_info": {
   "codemirror_mode": {
    "name": "ipython",
    "version": 3
   },
   "file_extension": ".py",
   "mimetype": "text/x-python",
   "name": "python",
   "nbconvert_exporter": "python",
   "pygments_lexer": "ipython3",
   "version": "3.7.2"
  }
 },
 "nbformat": 4,
 "nbformat_minor": 2
}
